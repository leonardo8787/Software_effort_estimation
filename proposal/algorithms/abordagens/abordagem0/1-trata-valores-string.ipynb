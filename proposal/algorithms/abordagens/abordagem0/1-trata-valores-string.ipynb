{
 "cells": [
  {
   "cell_type": "code",
   "execution_count": 1,
   "metadata": {},
   "outputs": [
    {
     "name": "stdout",
     "output_type": "stream",
     "text": [
      "Arquivo transformado salvo em: C:\\Users\\CALEO\\OneDrive - Hexagon\\Documents\\GitHub\\Software_effort_estimation\\proposal\\algorithms\\abordagens\\output\\0-saida\\cocomo81.txt\n",
      "Arquivo transformado salvo em: C:\\Users\\CALEO\\OneDrive - Hexagon\\Documents\\GitHub\\Software_effort_estimation\\proposal\\algorithms\\abordagens\\output\\0-saida\\encoded_china.txt\n",
      "Arquivo transformado salvo em: C:\\Users\\CALEO\\OneDrive - Hexagon\\Documents\\GitHub\\Software_effort_estimation\\proposal\\algorithms\\abordagens\\output\\0-saida\\encoded_desharnais.txt\n",
      "Arquivo transformado salvo em: C:\\Users\\CALEO\\OneDrive - Hexagon\\Documents\\GitHub\\Software_effort_estimation\\proposal\\algorithms\\abordagens\\output\\0-saida\\encoded_maxwell.txt\n"
     ]
    }
   ],
   "source": [
    "import os\n",
    "import pandas as pd\n",
    "\n",
    "def transform_categorical_and_boolean(data):\n",
    "    \"\"\"\n",
    "    Transforma valores categóricos e booleanos (True e False) em 0 e 1.\n",
    "\n",
    "    Args:\n",
    "        data (pd.DataFrame): DataFrame a ser transformado.\n",
    "\n",
    "    Returns:\n",
    "        pd.DataFrame: DataFrame com valores transformados.\n",
    "    \"\"\"\n",
    "    # Converter valores booleanos para 0 e 1\n",
    "    boolean_columns = data.select_dtypes(include=['bool']).columns\n",
    "    for col in boolean_columns:\n",
    "        data[col] = data[col].astype(int)\n",
    "\n",
    "    # Converter valores categóricos para 0 e 1\n",
    "    categorical_columns = data.select_dtypes(include=['object']).columns\n",
    "    for col in categorical_columns:\n",
    "        data[col] = data[col].astype('category').cat.codes\n",
    "\n",
    "    return data\n",
    "\n",
    "def process_datasets(input_directory, output_directory):\n",
    "    \"\"\"\n",
    "    Transforma valores categóricos e booleanos em 0 e 1, e salva os arquivos processados.\n",
    "\n",
    "    Args:\n",
    "        input_directory (str): Diretório contendo os arquivos .txt de entrada.\n",
    "        output_directory (str): Diretório onde os arquivos transformados serão salvos.\n",
    "    \"\"\"\n",
    "    if not os.path.exists(output_directory):\n",
    "        os.makedirs(output_directory)\n",
    "\n",
    "    for filename in os.listdir(input_directory):\n",
    "        if filename.endswith('.txt'):\n",
    "            file_path = os.path.join(input_directory, filename)\n",
    "            try:\n",
    "                # Carregar o dataset\n",
    "                data = pd.read_csv(file_path, delimiter=',')\n",
    "\n",
    "                # Aplicar transformações\n",
    "                data_transformed = transform_categorical_and_boolean(data)\n",
    "\n",
    "                # Salvar o dataset transformado\n",
    "                output_file_path = os.path.join(output_directory, filename)\n",
    "                data_transformed.to_csv(output_file_path, index=False, sep=',')\n",
    "\n",
    "                print(f\"Arquivo transformado salvo em: {output_file_path}\")\n",
    "\n",
    "            except Exception as e:\n",
    "                print(f\"Erro ao processar o arquivo {filename}: {e}\")\n",
    "\n",
    "# Caminhos de entrada e saída\n",
    "input_directory = r\"C:\\Users\\CALEO\\OneDrive - Hexagon\\Documents\\GitHub\\Software_effort_estimation\\proposal\\algorithms\\abordagens\\output\\0-saida\"\n",
    "output_directory = r\"C:\\Users\\CALEO\\OneDrive - Hexagon\\Documents\\GitHub\\Software_effort_estimation\\proposal\\algorithms\\abordagens\\output\\0-saida\"\n",
    "\n",
    "# Processar os datasets\n",
    "process_datasets(input_directory, output_directory)\n"
   ]
  }
 ],
 "metadata": {
  "kernelspec": {
   "display_name": "Python 3",
   "language": "python",
   "name": "python3"
  },
  "language_info": {
   "codemirror_mode": {
    "name": "ipython",
    "version": 3
   },
   "file_extension": ".py",
   "mimetype": "text/x-python",
   "name": "python",
   "nbconvert_exporter": "python",
   "pygments_lexer": "ipython3",
   "version": "3.11.9"
  }
 },
 "nbformat": 4,
 "nbformat_minor": 2
}
