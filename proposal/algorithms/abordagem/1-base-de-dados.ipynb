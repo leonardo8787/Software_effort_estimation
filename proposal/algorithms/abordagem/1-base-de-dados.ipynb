{
 "cells": [
  {
   "cell_type": "markdown",
   "metadata": {},
   "source": [
    "# Trata base para ficar organizada num arquivo .txt\n"
   ]
  },
  {
   "cell_type": "code",
   "execution_count": 2,
   "metadata": {},
   "outputs": [
    {
     "name": "stdout",
     "output_type": "stream",
     "text": [
      "Quantidade de arquivos lidos e salvos: 5\n"
     ]
    }
   ],
   "source": [
    "import os\n",
    "\n",
    "def extract_arff_variables_and_data(directory_path, output_directory):\n",
    "    if not os.path.exists(output_directory):\n",
    "        os.makedirs(output_directory)\n",
    "\n",
    "    arff_data = {}\n",
    "\n",
    "    # Itera sobre todos os arquivos do diretório\n",
    "    for filename in os.listdir(directory_path):\n",
    "        if filename.endswith('.arff'):\n",
    "            file_path = os.path.join(directory_path, filename)\n",
    "            with open(file_path, 'r') as file:\n",
    "                lines = file.readlines()\n",
    "\n",
    "                # Captura as variáveis antes de @data\n",
    "                variables = []\n",
    "                for line in lines:\n",
    "                    line = line.strip()\n",
    "                    if line.lower().startswith('@attribute'):\n",
    "                        # Extrai o nome da variável\n",
    "                        parts = line.split()\n",
    "                        if len(parts) > 1:\n",
    "                            variables.append(parts[1])\n",
    "                    elif line.lower().startswith('@data'):\n",
    "                        break\n",
    "\n",
    "                # Encontrar a linha onde começa o @data\n",
    "                data_index = next((i for i, line in enumerate(lines) if '@data' in line.lower()), None)\n",
    "                data_content = lines[data_index + 1:] if data_index is not None else []\n",
    "\n",
    "                # Organiza os dados em uma lista\n",
    "                organized_data = [\",\".join(variables)] + [line.strip() for line in data_content if line.strip()]\n",
    "                arff_data[filename] = organized_data\n",
    "\n",
    "                # Salva em um arquivo TXT\n",
    "                output_file_path = os.path.join(output_directory, f\"{os.path.splitext(filename)[0]}.txt\")\n",
    "                with open(output_file_path, 'w') as output_file:\n",
    "                    for line in organized_data:\n",
    "                        output_file.write(line + \"\\n\")\n",
    "\n",
    "    return arff_data\n",
    "\n",
    "# Caminho para o diretório de entrada e saída\n",
    "input_directory_path = '../../datasets'\n",
    "output_directory_path = './output_pre_processamento/'\n",
    "arff_data = extract_arff_variables_and_data(input_directory_path, output_directory_path)\n",
    "\n",
    "# Exibir o conteúdo e a quantidade de arquivos lidos\n",
    "cont = len(arff_data)\n",
    "print(f\"Quantidade de arquivos lidos e salvos: {cont}\")"
   ]
  }
 ],
 "metadata": {
  "kernelspec": {
   "display_name": "Python 3",
   "language": "python",
   "name": "python3"
  },
  "language_info": {
   "codemirror_mode": {
    "name": "ipython",
    "version": 3
   },
   "file_extension": ".py",
   "mimetype": "text/x-python",
   "name": "python",
   "nbconvert_exporter": "python",
   "pygments_lexer": "ipython3",
   "version": "3.11.9"
  }
 },
 "nbformat": 4,
 "nbformat_minor": 2
}
