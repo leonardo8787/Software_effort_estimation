{
 "cells": [
  {
   "cell_type": "code",
   "execution_count": null,
   "metadata": {
    "vscode": {
     "languageId": "plaintext"
    }
   },
   "outputs": [],
   "source": [
    "import pandas as pd\n",
    "import re\n",
    "import nbformat\n",
    "from nbconvert.preprocessors import ExecutePreprocessor\n",
    "\n",
    "# Caminho do arquivo\n",
    "processamento_output_txt = './processamento_executado.txt'\n",
    "\n",
    "# Inicializar lista para armazenar os resultados\n",
    "results = []\n",
    "\n",
    "# Variáveis auxiliares\n",
    "current_dataset = None\n",
    "current_model = None\n",
    "\n",
    "# Processar o arquivo\n",
    "with open(processamento_output_txt, 'r', encoding='utf-8') as file:\n",
    "    for line in file:\n",
    "        line = line.strip()\n",
    "        \n",
    "        # Detectar nome do dataset e modelo\n",
    "        if line.startswith(\"Arquivo:\"):\n",
    "            parts = line.split(\" - \")\n",
    "            current_dataset = parts[0].split(\":\")[1].strip()\n",
    "            current_model = parts[1] if len(parts) > 1 else None\n",
    "\n",
    "        # Detectar métricas\n",
    "        elif \"Mean Squared Error\" in line:\n",
    "            mse = float(re.search(r\"[-+]?\\d*\\.\\d+|\\d+\", line).group()) if \"Mean Squared Error\" in line else None\n",
    "        elif \"Root Mean Squared Error\" in line:\n",
    "            rmse = float(re.search(r\"[-+]?\\d*\\.\\d+|\\d+\", line).group()) if \"Root Mean Squared Error\" in line else None\n",
    "        elif \"Mean Absolute Error\" in line:\n",
    "            mae = float(re.search(r\"[-+]?\\d*\\.\\d+|\\d+\", line).group()) if \"Mean Absolute Error\" in line else None\n",
    "        elif \"Mean Absolute Percentage Error\" in line:\n",
    "            mape = float(re.search(r\"[-+]?\\d*\\.\\d+|\\d+\", line).group()) if \"Mean Absolute Percentage Error\" in line else None\n",
    "        elif \"R² Score\" in line:\n",
    "            r2 = float(re.search(r\"[-+]?\\d*\\.\\d+|\\d+\", line).group())\n",
    "        elif \"Explained Variance Score\" in line:\n",
    "            explained_var = float(re.search(r\"[-+]?\\d*\\.\\d+|\\d+\", line).group()) if \"Explained Variance Score\" in line else None\n",
    "        elif \"Max Error\" in line:\n",
    "            max_err = float(re.search(r\"[-+]?\\d*\\.\\d+|\\d+\", line).group()) if \"Max Error\" in line else None\n",
    "        \n",
    "        # Adicionar resultados ao final do bloco\n",
    "        elif line.startswith(\"--------------------------------------------------\"):\n",
    "            results.append({\n",
    "                \"Dataset\": current_dataset,\n",
    "                \"Model\": current_model,\n",
    "                \"MSE\": mse if 'mse' in locals() else None,\n",
    "                \"RMSE\": rmse if 'rmse' in locals() else None,\n",
    "                \"MAE\": mae if 'mae' in locals() else None,\n",
    "                \"MAPE\": mape if 'mape' in locals() else None,\n",
    "                \"R²\": r2 if 'r2' in locals() else None,\n",
    "                \"Explained Variance\": explained_var if 'explained_var' in locals() else None,\n",
    "                \"Max Error\": max_err if 'max_err' in locals() else None,\n",
    "            })\n",
    "\n",
    "# Criar DataFrame\n",
    "df_results = pd.DataFrame(results)\n",
    "\n",
    "# Salvar os resultados em um arquivo CSV\n",
    "df_results.to_csv('tabela_resultados_processamento.csv', index=False)\n",
    "\n",
    "# Exibir os primeiros resultados diretamente no terminal\n",
    "print(df_results.head(10))\n"
   ]
  }
 ],
 "metadata": {
  "language_info": {
   "name": "python"
  }
 },
 "nbformat": 4,
 "nbformat_minor": 2
}
