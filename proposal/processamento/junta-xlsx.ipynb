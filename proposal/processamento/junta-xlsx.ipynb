{
 "cells": [
  {
   "cell_type": "markdown",
   "metadata": {},
   "source": [
    "# Juntar arquivos xlsx"
   ]
  },
  {
   "cell_type": "code",
   "execution_count": 30,
   "metadata": {},
   "outputs": [
    {
     "name": "stdout",
     "output_type": "stream",
     "text": [
      "Arquivo consolidado salvo em: C:\\Users\\CALEO\\OneDrive - Hexagon\\Documents\\GitHub\\Software_effort_estimation\\proposal\\abordagem2\\saida\\4-escolha\\selectKbest\\75\\3-simulacao\\MIMIC-25\\resultado_consolidado.xlsx\n"
     ]
    }
   ],
   "source": [
    "import pandas as pd\n",
    "\n",
    "# Lista com os caminhos dos arquivos a serem consolidados\n",
    "arquivos = [\n",
    "    r'C:\\Users\\CALEO\\OneDrive - Hexagon\\Documents\\GitHub\\Software_effort_estimation\\proposal\\abordagem2\\saida\\4-escolha\\selectKbest\\75\\3-simulacao\\MIMIC-25\\tratamento_china.txt_resultados_alisson.xlsx',\n",
    "    r'C:\\Users\\CALEO\\OneDrive - Hexagon\\Documents\\GitHub\\Software_effort_estimation\\proposal\\abordagem2\\saida\\4-escolha\\selectKbest\\75\\3-simulacao\\MIMIC-25\\tratamento_cocomo81.txt_resultados_alisson.xlsx',\n",
    "    r'C:\\Users\\CALEO\\OneDrive - Hexagon\\Documents\\GitHub\\Software_effort_estimation\\proposal\\abordagem2\\saida\\4-escolha\\selectKbest\\75\\3-simulacao\\MIMIC-25\\tratamento_desharnais.txt_resultados_alisson.xlsx',\n",
    "    r'C:\\Users\\CALEO\\OneDrive - Hexagon\\Documents\\GitHub\\Software_effort_estimation\\proposal\\abordagem2\\saida\\4-escolha\\selectKbest\\75\\3-simulacao\\MIMIC-25\\tratamento_maxwell.txt_resultados_alisson.xlsx'\n",
    "]\n",
    "\n",
    "# Nome do arquivo final consolidado (agora com extensão .xlsx)\n",
    "arquivo_saida = r'C:\\Users\\CALEO\\OneDrive - Hexagon\\Documents\\GitHub\\Software_effort_estimation\\proposal\\abordagem2\\saida\\4-escolha\\selectKbest\\75\\3-simulacao\\MIMIC-25\\resultado_consolidado.xlsx'\n",
    "\n",
    "# Lista para armazenar os DataFrames\n",
    "dataframes = []\n",
    "\n",
    "try:\n",
    "    # Itera sobre os caminhos dos arquivos fornecidos\n",
    "    for arquivo in arquivos:\n",
    "        # Lê o arquivo Excel e adiciona à lista\n",
    "        df = pd.read_excel(arquivo)\n",
    "        df['Fonte'] = arquivo.split(\"\\\\\")[-1]  # Adiciona uma coluna indicando o nome do arquivo de origem\n",
    "        dataframes.append(df)\n",
    "\n",
    "    # Concatena todos os DataFrames em um só\n",
    "    resultado = pd.concat(dataframes, ignore_index=True)\n",
    "\n",
    "    # Salva o arquivo consolidado\n",
    "    resultado.to_excel(arquivo_saida, index=False)\n",
    "    print(f\"Arquivo consolidado salvo em: {arquivo_saida}\")\n",
    "except Exception as e:\n",
    "    print(f\"Erro: {e}\")\n"
   ]
  }
 ],
 "metadata": {
  "kernelspec": {
   "display_name": "Python 3",
   "language": "python",
   "name": "python3"
  },
  "language_info": {
   "codemirror_mode": {
    "name": "ipython",
    "version": 3
   },
   "file_extension": ".py",
   "mimetype": "text/x-python",
   "name": "python",
   "nbconvert_exporter": "python",
   "pygments_lexer": "ipython3",
   "version": "3.11.9"
  }
 },
 "nbformat": 4,
 "nbformat_minor": 2
}
