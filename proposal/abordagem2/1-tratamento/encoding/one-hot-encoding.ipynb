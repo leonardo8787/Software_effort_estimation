{
 "cells": [
  {
   "cell_type": "code",
   "execution_count": 1,
   "metadata": {},
   "outputs": [
    {
     "name": "stdout",
     "output_type": "stream",
     "text": [
      "Arquivo 'china.txt' contém 0 valores faltantes.\n",
      "Aplicando one-hot encoding no arquivo: china.txt\n",
      "Arquivo transformado salvo em: C:\\Users\\CALEO\\OneDrive - Hexagon\\Documents\\GitHub\\Software_effort_estimation\\proposal\\abordagem\\0-datasets\\tratados\\china.txt\n",
      "Arquivo 'cocomo81.txt' contém 0 valores faltantes.\n",
      "Não foi encontrada nenhuma coluna categórica no arquivo: cocomo81.txt\n",
      "Arquivo 'desharnais.txt' contém 0 valores faltantes.\n",
      "Aplicando one-hot encoding no arquivo: desharnais.txt\n",
      "Arquivo transformado salvo em: C:\\Users\\CALEO\\OneDrive - Hexagon\\Documents\\GitHub\\Software_effort_estimation\\proposal\\abordagem\\0-datasets\\tratados\\desharnais.txt\n",
      "Arquivo 'maxwell.txt' contém 2 valores faltantes.\n",
      "Coluna categórica 'dba': 2 valores faltantes preenchidos com a moda 'Relatnl'.\n",
      "Aplicando one-hot encoding no arquivo: maxwell.txt\n",
      "Arquivo transformado salvo em: C:\\Users\\CALEO\\OneDrive - Hexagon\\Documents\\GitHub\\Software_effort_estimation\\proposal\\abordagem\\0-datasets\\tratados\\maxwell.txt\n"
     ]
    },
    {
     "name": "stderr",
     "output_type": "stream",
     "text": [
      "C:\\Users\\CALEO\\AppData\\Local\\Temp\\ipykernel_19532\\3873316174.py:38: FutureWarning: A value is trying to be set on a copy of a DataFrame or Series through chained assignment using an inplace method.\n",
      "The behavior will change in pandas 3.0. This inplace method will never work because the intermediate object on which we are setting values always behaves as a copy.\n",
      "\n",
      "For example, when doing 'df[col].method(value, inplace=True)', try using 'df.method({col: value}, inplace=True)' or df[col] = df[col].method(value) instead, to perform the operation inplace on the original object.\n",
      "\n",
      "\n",
      "  data[col].fillna(mode_value, inplace=True)\n"
     ]
    }
   ],
   "source": [
    "import os\n",
    "import pandas as pd\n",
    "\n",
    "def is_categorical_numeric(column, data, unique_threshold=10, frequency_threshold=0.05):\n",
    "    unique_values = data[column].nunique()\n",
    "    if unique_values > unique_threshold:\n",
    "        return False\n",
    "    value_frequency = unique_values / len(data)\n",
    "    return value_frequency <= frequency_threshold\n",
    "\n",
    "def one_hot_encode_datasets(input_directory, output_directory):\n",
    "    if not os.path.exists(output_directory):\n",
    "        os.makedirs(output_directory)\n",
    "\n",
    "    for filename in os.listdir(input_directory):\n",
    "        if filename.endswith('.txt'):\n",
    "            file_path = os.path.join(input_directory, filename)\n",
    "            try:\n",
    "                data = pd.read_csv(file_path, delimiter=',')\n",
    "\n",
    "                missing_values_count = data.isnull().sum().sum()\n",
    "                print(f\"Arquivo '{filename}' contém {missing_values_count} valores faltantes.\")\n",
    "\n",
    "                categorical_columns = list(data.select_dtypes(include=['object']).columns)\n",
    "\n",
    "                numeric_categorical_columns = [\n",
    "                    col for col in data.select_dtypes(include=['number']).columns\n",
    "                    if is_categorical_numeric(col, data) and col != data.columns[-1]\n",
    "                ]\n",
    "\n",
    "                all_categorical_columns = categorical_columns + numeric_categorical_columns\n",
    "\n",
    "                for col in categorical_columns:\n",
    "                    if col in data.columns and data[col].isnull().sum() > 0:\n",
    "                        mode_value = data[col].mode()[0]\n",
    "                        missing_count = data[col].isnull().sum()\n",
    "                        print(f\"Coluna categórica '{col}': {missing_count} valores faltantes preenchidos com a moda '{mode_value}'.\")\n",
    "                        data[col].fillna(mode_value, inplace=True)\n",
    "                \n",
    "                for col in data.select_dtypes(include=['number']).columns:\n",
    "                    if col in data.columns and data[col].isnull().sum() > 0:\n",
    "                        mean_value = data[col].mean()\n",
    "                        missing_count = data[col].isnull().sum()\n",
    "                        print(f\"Coluna numérica '{col}': {missing_count} valores faltantes preenchidos com a média '{mean_value:.2f}'.\")\n",
    "                        data[col].fillna(mean_value, inplace=True)\n",
    "\n",
    "                if len(all_categorical_columns) > 0:\n",
    "                    print(f\"Aplicando one-hot encoding no arquivo: {filename}\")\n",
    "\n",
    "                    data_encoded = pd.get_dummies(data, columns=all_categorical_columns, drop_first=False, dtype=int)\n",
    "\n",
    "                    target_column = data.columns[-1]\n",
    "                    columns = [col for col in data_encoded.columns if col != target_column] + [target_column]\n",
    "                    data_encoded = data_encoded[columns]\n",
    "\n",
    "                    output_file_path = os.path.join(output_directory, f\"{filename}\")\n",
    "                    data_encoded.to_csv(output_file_path, index=False, sep=',')\n",
    "\n",
    "                    print(f\"Arquivo transformado salvo em: {output_file_path}\")\n",
    "                else:\n",
    "                    print(f\"Não foi encontrada nenhuma coluna categórica no arquivo: {filename}\")\n",
    "\n",
    "            except Exception as e:\n",
    "                print(f\"Erro ao processar o arquivo {filename}: {e}\")\n",
    "\n",
    "input_directory = r\"C:\\Users\\CALEO\\OneDrive - Hexagon\\Documents\\GitHub\\Software_effort_estimation\\proposal\\abordagem\\0-datasets\\originais\"\n",
    "output_directory = r\"C:\\Users\\CALEO\\OneDrive - Hexagon\\Documents\\GitHub\\Software_effort_estimation\\proposal\\abordagem\\0-datasets\\tratados\"\n",
    "\n",
    "one_hot_encode_datasets(input_directory, output_directory)\n"
   ]
  }
 ],
 "metadata": {
  "kernelspec": {
   "display_name": "Python 3",
   "language": "python",
   "name": "python3"
  },
  "language_info": {
   "codemirror_mode": {
    "name": "ipython",
    "version": 3
   },
   "file_extension": ".py",
   "mimetype": "text/x-python",
   "name": "python",
   "nbconvert_exporter": "python",
   "pygments_lexer": "ipython3",
   "version": "3.11.9"
  }
 },
 "nbformat": 4,
 "nbformat_minor": 2
}
