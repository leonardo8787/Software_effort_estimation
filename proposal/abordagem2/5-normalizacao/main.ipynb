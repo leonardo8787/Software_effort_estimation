{
 "cells": [
  {
   "cell_type": "markdown",
   "metadata": {},
   "source": [
    "# normaliza as saídas da simulação"
   ]
  },
  {
   "cell_type": "code",
   "execution_count": 1,
   "metadata": {},
   "outputs": [
    {
     "name": "stdout",
     "output_type": "stream",
     "text": [
      "Normalização concluída: C:\\Users\\CALEO\\OneDrive - Hexagon\\Documents\\GitHub\\Software_effort_estimation\\proposal\\abordagem2\\saida\\3-simulacao\\GAN-25\\tratamento_china.txt\n",
      "Normalização concluída: C:\\Users\\CALEO\\OneDrive - Hexagon\\Documents\\GitHub\\Software_effort_estimation\\proposal\\abordagem2\\saida\\3-simulacao\\GAN-25\\tratamento_cocomo81.txt\n",
      "Normalização concluída: C:\\Users\\CALEO\\OneDrive - Hexagon\\Documents\\GitHub\\Software_effort_estimation\\proposal\\abordagem2\\saida\\3-simulacao\\GAN-25\\tratamento_desharnais.txt\n",
      "Normalização concluída: C:\\Users\\CALEO\\OneDrive - Hexagon\\Documents\\GitHub\\Software_effort_estimation\\proposal\\abordagem2\\saida\\3-simulacao\\GAN-25\\tratamento_maxwell.txt\n",
      "Normalização concluída: C:\\Users\\CALEO\\OneDrive - Hexagon\\Documents\\GitHub\\Software_effort_estimation\\proposal\\abordagem2\\saida\\3-simulacao\\GAN-50\\tratamento_china.txt\n",
      "Normalização concluída: C:\\Users\\CALEO\\OneDrive - Hexagon\\Documents\\GitHub\\Software_effort_estimation\\proposal\\abordagem2\\saida\\3-simulacao\\GAN-50\\tratamento_cocomo81.txt\n",
      "Normalização concluída: C:\\Users\\CALEO\\OneDrive - Hexagon\\Documents\\GitHub\\Software_effort_estimation\\proposal\\abordagem2\\saida\\3-simulacao\\GAN-50\\tratamento_desharnais.txt\n",
      "Normalização concluída: C:\\Users\\CALEO\\OneDrive - Hexagon\\Documents\\GitHub\\Software_effort_estimation\\proposal\\abordagem2\\saida\\3-simulacao\\GAN-50\\tratamento_maxwell.txt\n",
      "Normalização concluída: C:\\Users\\CALEO\\OneDrive - Hexagon\\Documents\\GitHub\\Software_effort_estimation\\proposal\\abordagem2\\saida\\3-simulacao\\GAN-75\\tratamento_china.txt\n",
      "Normalização concluída: C:\\Users\\CALEO\\OneDrive - Hexagon\\Documents\\GitHub\\Software_effort_estimation\\proposal\\abordagem2\\saida\\3-simulacao\\GAN-75\\tratamento_cocomo81.txt\n",
      "Normalização concluída: C:\\Users\\CALEO\\OneDrive - Hexagon\\Documents\\GitHub\\Software_effort_estimation\\proposal\\abordagem2\\saida\\3-simulacao\\GAN-75\\tratamento_desharnais.txt\n",
      "Normalização concluída: C:\\Users\\CALEO\\OneDrive - Hexagon\\Documents\\GitHub\\Software_effort_estimation\\proposal\\abordagem2\\saida\\3-simulacao\\GAN-75\\tratamento_maxwell.txt\n",
      "Normalização concluída: C:\\Users\\CALEO\\OneDrive - Hexagon\\Documents\\GitHub\\Software_effort_estimation\\proposal\\abordagem2\\saida\\3-simulacao\\MIMIC-25\\tratamento_china.txt\n",
      "Normalização concluída: C:\\Users\\CALEO\\OneDrive - Hexagon\\Documents\\GitHub\\Software_effort_estimation\\proposal\\abordagem2\\saida\\3-simulacao\\MIMIC-25\\tratamento_cocomo81.txt\n",
      "Normalização concluída: C:\\Users\\CALEO\\OneDrive - Hexagon\\Documents\\GitHub\\Software_effort_estimation\\proposal\\abordagem2\\saida\\3-simulacao\\MIMIC-25\\tratamento_desharnais.txt\n",
      "Normalização concluída: C:\\Users\\CALEO\\OneDrive - Hexagon\\Documents\\GitHub\\Software_effort_estimation\\proposal\\abordagem2\\saida\\3-simulacao\\MIMIC-25\\tratamento_maxwell.txt\n",
      "Normalização concluída: C:\\Users\\CALEO\\OneDrive - Hexagon\\Documents\\GitHub\\Software_effort_estimation\\proposal\\abordagem2\\saida\\3-simulacao\\MIMIC-50\\tratamento_china.txt\n",
      "Normalização concluída: C:\\Users\\CALEO\\OneDrive - Hexagon\\Documents\\GitHub\\Software_effort_estimation\\proposal\\abordagem2\\saida\\3-simulacao\\MIMIC-50\\tratamento_cocomo81.txt\n",
      "Normalização concluída: C:\\Users\\CALEO\\OneDrive - Hexagon\\Documents\\GitHub\\Software_effort_estimation\\proposal\\abordagem2\\saida\\3-simulacao\\MIMIC-50\\tratamento_desharnais.txt\n",
      "Normalização concluída: C:\\Users\\CALEO\\OneDrive - Hexagon\\Documents\\GitHub\\Software_effort_estimation\\proposal\\abordagem2\\saida\\3-simulacao\\MIMIC-50\\tratamento_maxwell.txt\n",
      "Normalização concluída: C:\\Users\\CALEO\\OneDrive - Hexagon\\Documents\\GitHub\\Software_effort_estimation\\proposal\\abordagem2\\saida\\3-simulacao\\MIMIC-75\\tratamento_china.txt\n",
      "Normalização concluída: C:\\Users\\CALEO\\OneDrive - Hexagon\\Documents\\GitHub\\Software_effort_estimation\\proposal\\abordagem2\\saida\\3-simulacao\\MIMIC-75\\tratamento_cocomo81.txt\n",
      "Normalização concluída: C:\\Users\\CALEO\\OneDrive - Hexagon\\Documents\\GitHub\\Software_effort_estimation\\proposal\\abordagem2\\saida\\3-simulacao\\MIMIC-75\\tratamento_desharnais.txt\n",
      "Normalização concluída: C:\\Users\\CALEO\\OneDrive - Hexagon\\Documents\\GitHub\\Software_effort_estimation\\proposal\\abordagem2\\saida\\3-simulacao\\MIMIC-75\\tratamento_maxwell.txt\n"
     ]
    }
   ],
   "source": [
    "import os\n",
    "import pandas as pd\n",
    "from sklearn.preprocessing import MinMaxScaler\n",
    "\n",
    "def normalize_dataset(file_path, output_path):\n",
    "    \"\"\"\n",
    "    Normaliza um dataset utilizando Min-Max Scaling e salva o resultado.\n",
    "\n",
    "    Args:\n",
    "        file_path (str): Caminho do arquivo de entrada.\n",
    "        output_path (str): Caminho para salvar o arquivo normalizado.\n",
    "    \"\"\"\n",
    "    try:\n",
    "        # Ler o dataset\n",
    "        data = pd.read_csv(file_path, delimiter=',', skipinitialspace=True)\n",
    "\n",
    "        # Inicializar o MinMaxScaler\n",
    "        scaler = MinMaxScaler()\n",
    "\n",
    "        # Aplicar normalização apenas nas colunas numéricas\n",
    "        numeric_columns = data.select_dtypes(include=['number']).columns\n",
    "        data[numeric_columns] = scaler.fit_transform(data[numeric_columns])\n",
    "\n",
    "        # Salvar o arquivo normalizado\n",
    "        os.makedirs(os.path.dirname(output_path), exist_ok=True)\n",
    "        data.to_csv(output_path, index=False, sep=',')\n",
    "\n",
    "        print(f\"Normalização concluída: {output_path}\")\n",
    "    except Exception as e:\n",
    "        print(f\"Erro ao processar {file_path}: {e}\")\n",
    "\n",
    "def process_all_datasets(input_dir, exclude_dir):\n",
    "    \"\"\"\n",
    "    Processa todos os datasets em subpastas e aplica Min-Max Scaling, exceto no diretório especificado.\n",
    "\n",
    "    Args:\n",
    "        input_dir (str): Diretório raiz contendo os datasets.\n",
    "        exclude_dir (str): Diretório a ser excluído do processamento.\n",
    "    \"\"\"\n",
    "    for root, _, files in os.walk(input_dir):\n",
    "        if os.path.commonpath([root, exclude_dir]) == exclude_dir:\n",
    "            continue\n",
    "\n",
    "        for file in files:\n",
    "            if file.endswith('.txt'):\n",
    "                input_path = os.path.join(root, file)\n",
    "                output_path = os.path.join(root, file)  # Sobrescreve o arquivo original\n",
    "                normalize_dataset(input_path, output_path)\n",
    "\n",
    "# Diretório raiz contendo os datasets\n",
    "input_directory = r\"C:\\Users\\CALEO\\OneDrive - Hexagon\\Documents\\GitHub\\Software_effort_estimation\\proposal\\abordagem2\\saida\\3-simulacao\"\n",
    "\n",
    "# Diretório a ser excluído da normalização\n",
    "exclude_directory = r\"C:\\Users\\CALEO\\OneDrive - Hexagon\\Documents\\GitHub\\Software_effort_estimation\\proposal\\abordagem2\\saida\\3-simulacao\\1-tratamento\"\n",
    "\n",
    "# Processar todos os arquivos, exceto os do diretório excluído\n",
    "process_all_datasets(input_directory, exclude_directory)\n"
   ]
  }
 ],
 "metadata": {
  "kernelspec": {
   "display_name": "Python 3",
   "language": "python",
   "name": "python3"
  },
  "language_info": {
   "codemirror_mode": {
    "name": "ipython",
    "version": 3
   },
   "file_extension": ".py",
   "mimetype": "text/x-python",
   "name": "python",
   "nbconvert_exporter": "python",
   "pygments_lexer": "ipython3",
   "version": "3.11.9"
  }
 },
 "nbformat": 4,
 "nbformat_minor": 2
}
